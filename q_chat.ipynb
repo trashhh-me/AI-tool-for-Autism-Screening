{
  "nbformat": 4,
  "nbformat_minor": 0,
  "metadata": {
    "colab": {
      "provenance": []
    },
    "kernelspec": {
      "name": "python3",
      "display_name": "Python 3"
    },
    "language_info": {
      "name": "python"
    }
  },
  "cells": [
    {
      "cell_type": "code",
      "source": [
        "from google.colab import drive\n",
        "drive.mount('/content/drive')"
      ],
      "metadata": {
        "colab": {
          "base_uri": "https://localhost:8080/"
        },
        "id": "VENfG7ksLWkn",
        "outputId": "1db39849-7095-4343-eea3-86533e1a4603"
      },
      "execution_count": null,
      "outputs": [
        {
          "output_type": "stream",
          "name": "stdout",
          "text": [
            "Mounted at /content/drive\n"
          ]
        }
      ]
    },
    {
      "cell_type": "code",
      "execution_count": null,
      "metadata": {
        "id": "RwwNdMy_aw01",
        "colab": {
          "base_uri": "https://localhost:8080/"
        },
        "outputId": "d9dd4507-4a30-4e28-c5c7-46d883a1d789"
      },
      "outputs": [
        {
          "output_type": "stream",
          "name": "stdout",
          "text": [
            "Requirement already satisfied: mord in /usr/local/lib/python3.10/dist-packages (0.7)\n",
            "Index(['Case_No', 'A1', 'A2', 'A3', 'A4', 'A5', 'A6', 'A7', 'A8', 'A9', 'A10',\n",
            "       'Age_Mons', 'Qchat-10-Score', 'Sex', 'Ethnicity', 'Jaundice',\n",
            "       'Family_mem_with_ASD', 'Who completed the test', 'Class/ASD Traits '],\n",
            "      dtype='object')\n"
          ]
        }
      ],
      "source": [
        "!pip install mord\n",
        "import pandas as pd\n",
        "from mord import OrdinalRidge\n",
        "from sklearn.model_selection import train_test_split\n",
        "from sklearn.metrics import accuracy_score\n",
        "from sklearn.preprocessing import LabelEncoder, OneHotEncoder, StandardScaler\n",
        "from sklearn.compose import ColumnTransformer\n",
        "from sklearn.pipeline import Pipeline\n",
        "\n",
        "file_path = '/content/drive/MyDrive/Toddler_Autism_dataset_July_2018.csv'\n",
        "data = pd.read_csv(file_path)\n",
        "print(data.columns)\n",
        "\n"
      ]
    },
    {
      "cell_type": "code",
      "source": [
        "# Separate features (questionnaire responses) and the target label\n",
        "X = data.drop('Class/ASD Traits ', axis=1)\n",
        "y = data['Class/ASD Traits ']\n",
        "\n",
        "X_train, X_test, y_train, y_test = train_test_split(X, y, test_size=0.1, random_state=42)\n",
        "\n",
        "# Preprocessing pipeline\n",
        "preprocessor = ColumnTransformer([\n",
        "    ('categorical', OneHotEncoder(), ['Sex', 'Ethnicity', 'Jaundice', 'Family_mem_with_ASD'])\n",
        "])\n",
        "\n",
        "\n",
        "# Label encoding for the target label 'Class/ASD Traits'\n",
        "label_encoder = LabelEncoder()\n",
        "y_train_encoded = label_encoder.fit_transform(y_train)\n",
        "y_test_encoded = label_encoder.transform(y_test)\n",
        "\n",
        "# Create and train the Ordinal Regression model\n",
        "ordinal_model = OrdinalRidge()\n",
        "pipeline = Pipeline([\n",
        "    ('preprocessor', preprocessor),\n",
        "    ('model', ordinal_model)\n",
        "])\n",
        "pipeline.fit(X_train, y_train_encoded)\n",
        "\n",
        "# Evaluate the model on the test set\n",
        "y_pred_encoded = pipeline.predict(X_test)\n",
        "accuracy = accuracy_score(y_test_encoded, y_pred_encoded)\n",
        "print(\"Accuracy on Test Set:\", accuracy)\n",
        "\n",
        "print(\"Original Class Labels:\", label_encoder.classes_)\n",
        "\n",
        "print(\"Predictions for Test Data:\")\n",
        "for i in range(len(X_test)):\n",
        "    test_instance = X_test.iloc[[i]]  # Get a single row as DataFrame\n",
        "    predicted_label = pipeline.predict(test_instance)\n",
        "    true_label = y_test.iloc[i]\n",
        "    print(f\"Test Instance {i+1}: ASD Traits: {true_label}\")\n",
        "\n"
      ],
      "metadata": {
        "colab": {
          "base_uri": "https://localhost:8080/"
        },
        "id": "V5w-SsHnQdSx",
        "outputId": "70c2f1a9-211d-45ab-a487-be96f5de2ace"
      },
      "execution_count": null,
      "outputs": [
        {
          "output_type": "stream",
          "name": "stdout",
          "text": [
            "Accuracy on Test Set: 0.7264150943396226\n",
            "Original Class Labels: ['No' 'Yes']\n",
            "Predictions for Test Data:\n",
            "Test Instance 1: ASD Traits: Yes\n",
            "Test Instance 2: ASD Traits: No\n",
            "Test Instance 3: ASD Traits: No\n",
            "Test Instance 4: ASD Traits: Yes\n",
            "Test Instance 5: ASD Traits: Yes\n",
            "Test Instance 6: ASD Traits: No\n",
            "Test Instance 7: ASD Traits: Yes\n",
            "Test Instance 8: ASD Traits: No\n",
            "Test Instance 9: ASD Traits: Yes\n",
            "Test Instance 10: ASD Traits: No\n",
            "Test Instance 11: ASD Traits: Yes\n",
            "Test Instance 12: ASD Traits: No\n",
            "Test Instance 13: ASD Traits: No\n",
            "Test Instance 14: ASD Traits: No\n",
            "Test Instance 15: ASD Traits: Yes\n",
            "Test Instance 16: ASD Traits: Yes\n",
            "Test Instance 17: ASD Traits: Yes\n",
            "Test Instance 18: ASD Traits: Yes\n",
            "Test Instance 19: ASD Traits: Yes\n",
            "Test Instance 20: ASD Traits: Yes\n",
            "Test Instance 21: ASD Traits: Yes\n",
            "Test Instance 22: ASD Traits: No\n",
            "Test Instance 23: ASD Traits: Yes\n",
            "Test Instance 24: ASD Traits: Yes\n",
            "Test Instance 25: ASD Traits: No\n",
            "Test Instance 26: ASD Traits: Yes\n",
            "Test Instance 27: ASD Traits: Yes\n",
            "Test Instance 28: ASD Traits: Yes\n",
            "Test Instance 29: ASD Traits: Yes\n",
            "Test Instance 30: ASD Traits: Yes\n",
            "Test Instance 31: ASD Traits: Yes\n",
            "Test Instance 32: ASD Traits: No\n",
            "Test Instance 33: ASD Traits: Yes\n",
            "Test Instance 34: ASD Traits: Yes\n",
            "Test Instance 35: ASD Traits: Yes\n",
            "Test Instance 36: ASD Traits: Yes\n",
            "Test Instance 37: ASD Traits: Yes\n",
            "Test Instance 38: ASD Traits: Yes\n",
            "Test Instance 39: ASD Traits: Yes\n",
            "Test Instance 40: ASD Traits: Yes\n",
            "Test Instance 41: ASD Traits: No\n",
            "Test Instance 42: ASD Traits: Yes\n",
            "Test Instance 43: ASD Traits: Yes\n",
            "Test Instance 44: ASD Traits: Yes\n",
            "Test Instance 45: ASD Traits: No\n",
            "Test Instance 46: ASD Traits: No\n",
            "Test Instance 47: ASD Traits: Yes\n",
            "Test Instance 48: ASD Traits: No\n",
            "Test Instance 49: ASD Traits: Yes\n",
            "Test Instance 50: ASD Traits: Yes\n",
            "Test Instance 51: ASD Traits: Yes\n",
            "Test Instance 52: ASD Traits: Yes\n",
            "Test Instance 53: ASD Traits: No\n",
            "Test Instance 54: ASD Traits: Yes\n",
            "Test Instance 55: ASD Traits: Yes\n",
            "Test Instance 56: ASD Traits: Yes\n",
            "Test Instance 57: ASD Traits: No\n",
            "Test Instance 58: ASD Traits: Yes\n",
            "Test Instance 59: ASD Traits: No\n",
            "Test Instance 60: ASD Traits: Yes\n",
            "Test Instance 61: ASD Traits: Yes\n",
            "Test Instance 62: ASD Traits: No\n",
            "Test Instance 63: ASD Traits: No\n",
            "Test Instance 64: ASD Traits: Yes\n",
            "Test Instance 65: ASD Traits: No\n",
            "Test Instance 66: ASD Traits: Yes\n",
            "Test Instance 67: ASD Traits: Yes\n",
            "Test Instance 68: ASD Traits: Yes\n",
            "Test Instance 69: ASD Traits: Yes\n",
            "Test Instance 70: ASD Traits: Yes\n",
            "Test Instance 71: ASD Traits: Yes\n",
            "Test Instance 72: ASD Traits: Yes\n",
            "Test Instance 73: ASD Traits: Yes\n",
            "Test Instance 74: ASD Traits: No\n",
            "Test Instance 75: ASD Traits: Yes\n",
            "Test Instance 76: ASD Traits: No\n",
            "Test Instance 77: ASD Traits: Yes\n",
            "Test Instance 78: ASD Traits: Yes\n",
            "Test Instance 79: ASD Traits: Yes\n",
            "Test Instance 80: ASD Traits: No\n",
            "Test Instance 81: ASD Traits: Yes\n",
            "Test Instance 82: ASD Traits: Yes\n",
            "Test Instance 83: ASD Traits: No\n",
            "Test Instance 84: ASD Traits: Yes\n",
            "Test Instance 85: ASD Traits: Yes\n",
            "Test Instance 86: ASD Traits: Yes\n",
            "Test Instance 87: ASD Traits: Yes\n",
            "Test Instance 88: ASD Traits: No\n",
            "Test Instance 89: ASD Traits: Yes\n",
            "Test Instance 90: ASD Traits: No\n",
            "Test Instance 91: ASD Traits: No\n",
            "Test Instance 92: ASD Traits: Yes\n",
            "Test Instance 93: ASD Traits: Yes\n",
            "Test Instance 94: ASD Traits: Yes\n",
            "Test Instance 95: ASD Traits: Yes\n",
            "Test Instance 96: ASD Traits: Yes\n",
            "Test Instance 97: ASD Traits: Yes\n",
            "Test Instance 98: ASD Traits: Yes\n",
            "Test Instance 99: ASD Traits: Yes\n",
            "Test Instance 100: ASD Traits: Yes\n",
            "Test Instance 101: ASD Traits: Yes\n",
            "Test Instance 102: ASD Traits: No\n",
            "Test Instance 103: ASD Traits: Yes\n",
            "Test Instance 104: ASD Traits: Yes\n",
            "Test Instance 105: ASD Traits: Yes\n",
            "Test Instance 106: ASD Traits: Yes\n"
          ]
        }
      ]
    },
    {
      "cell_type": "code",
      "source": [],
      "metadata": {
        "id": "0ywdBJIuPzMW"
      },
      "execution_count": null,
      "outputs": []
    }
  ]
}